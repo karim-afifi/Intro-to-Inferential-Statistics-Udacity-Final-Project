{
 "cells": [
  {
   "cell_type": "markdown",
   "metadata": {},
   "source": [
    "<h1>Inferential Statistics Final Project</h1><br>\n",
    "\n",
    "<h2>Overview</h2><br>\n",
    "For the Inferential Statistics final project, you are required to perform a detailed analysis on one or more of the provided data sets. With your chosen data set(s) you will come up with a hypothesis which you wish to test. You will then design an experiment to test this hypothesis and choose an appropriate test. For example, you may use t-tests, ANOVA tests, or any other hypothesis test covered in the course. Remember to check the conditions of any test that you choose to use. Once you’ve run your test you will also need to provide visualizations to support your test. These can be any of the visualizations we learned in this course or in Descriptive Statistics (i.e. histogram, box-whisker plot, scatterplot, etc.). Make sure to follow the final project template found below.\n",
    "\n",
    "When you complete the final project be sure to check through the <a href=\"https://www.google.com/url?q=https://docs.google.com/document/d/1GyabZyEIFxwt-5_udINmVJG440Cg8Sz0OICf67CUVsc/pub&sa=D&ust=1536668104575000\">project rubric</a> before you submit!\n",
    "\n",
    "Main points to be covered in the final project are as follows:\n",
    "\n",
    "<ul>\n",
    "    <li>Introduce the topic related to the data set - why it is important to analyze</li>\n",
    "    <li>Your research question and hypothesis</li>\n",
    "    <li>Experimental design - type of analysis and reason for this choice</li>\n",
    "    <li>Analysis results and data visualizations</li>\n",
    "    <li>Conclusion - what you learned and what are the real life implications</li>\n",
    "</ul>\n",
    "\n",
    "<h2>Datasets</h2><br>\n",
    "Examples of datasets that you may use for your final project may be found in <a href=\"https://docs.google.com/document/d/1OUSSC0GjWwmOlpu6tWVJ-s82rfivAGiJwJyMIz_1BdE/pub\">this document</a>.\n",
    "\n",
    "<h2>We will apply what we learned on the Haberman's Survival Dataset</h2>"
   ]
  },
  {
   "cell_type": "markdown",
   "metadata": {},
   "source": [
    "<h2>Introduction</h2><br>\n",
    "Breast cancer is the most common invasive cancer in women, and the second main cause of cancer death in women, after lung cancer. Knowing more about this disease will have a huge impact on people's lives.\n",
    "\n",
    "    1. Title: Haberman's Survival Data\n",
    "\n",
    "    2. Sources:\n",
    "       (a) Donor:   Tjen-Sien Lim (limt@stat.wisc.edu)\n",
    "       (b) Date:    March 4, 1999\n",
    "\n",
    "    3. Past Usage:\n",
    "       1. Haberman, S. J. (1976). Generalized Residuals for Log-Linear\n",
    "          Models, Proceedings of the 9th International Biometrics\n",
    "          Conference, Boston, pp. 104-122.\n",
    "       2. Landwehr, J. M., Pregibon, D., and Shoemaker, A. C. (1984),\n",
    "          Graphical Models for Assessing Logistic Regression Models (with\n",
    "          discussion), Journal of the American Statistical Association 79:\n",
    "          61-83.\n",
    "       3. Lo, W.-D. (1993). Logistic Regression Trees, PhD thesis,\n",
    "          Department of Statistics, University of Wisconsin, Madison, WI.\n",
    "\n",
    "    4. Relevant Information:\n",
    "       The dataset contains cases from a study that was conducted between\n",
    "       1958 and 1970 at the University of Chicago's Billings Hospital on\n",
    "       the survival of patients who had undergone surgery for breast\n",
    "       cancer.\n",
    "\n",
    "    5. Number of Instances: 306\n",
    "\n",
    "    6. Number of Attributes: 4 (including the class attribute)\n",
    "\n",
    "    7. Attribute Information:\n",
    "       1. Age of patient at time of operation (numerical)\n",
    "       2. Patient's year of operation (year - 1900, numerical)\n",
    "       3. Number of positive axillary nodes detected (numerical)\n",
    "       4. Survival status (class attribute)\n",
    "             1 = the patient survived 5 years or longer\n",
    "             2 = the patient died within 5 year\n",
    "\n",
    "    8. Missing Attribute Values: None"
   ]
  },
  {
   "cell_type": "markdown",
   "metadata": {},
   "source": [
    "Lets now load our dataset and explore it"
   ]
  },
  {
   "cell_type": "code",
   "execution_count": 62,
   "metadata": {},
   "outputs": [],
   "source": [
    "import pandas as pd\n",
    "import numpy as np\n",
    "import matplotlib.pyplot as plt\n",
    "import seaborn as sns\n",
    "plt.style.use('ggplot')\n",
    "\n",
    "%matplotlib inline"
   ]
  },
  {
   "cell_type": "code",
   "execution_count": 63,
   "metadata": {},
   "outputs": [
    {
     "data": {
      "text/html": [
       "<div>\n",
       "<style scoped>\n",
       "    .dataframe tbody tr th:only-of-type {\n",
       "        vertical-align: middle;\n",
       "    }\n",
       "\n",
       "    .dataframe tbody tr th {\n",
       "        vertical-align: top;\n",
       "    }\n",
       "\n",
       "    .dataframe thead th {\n",
       "        text-align: right;\n",
       "    }\n",
       "</style>\n",
       "<table border=\"1\" class=\"dataframe\">\n",
       "  <thead>\n",
       "    <tr style=\"text-align: right;\">\n",
       "      <th></th>\n",
       "      <th>Patient_Age</th>\n",
       "      <th>Operation_Year</th>\n",
       "      <th>Num_of_Positive_Axillary</th>\n",
       "      <th>Survival_Status</th>\n",
       "    </tr>\n",
       "  </thead>\n",
       "  <tbody>\n",
       "    <tr>\n",
       "      <th>0</th>\n",
       "      <td>30</td>\n",
       "      <td>64</td>\n",
       "      <td>1</td>\n",
       "      <td>1</td>\n",
       "    </tr>\n",
       "    <tr>\n",
       "      <th>1</th>\n",
       "      <td>30</td>\n",
       "      <td>62</td>\n",
       "      <td>3</td>\n",
       "      <td>1</td>\n",
       "    </tr>\n",
       "    <tr>\n",
       "      <th>2</th>\n",
       "      <td>30</td>\n",
       "      <td>65</td>\n",
       "      <td>0</td>\n",
       "      <td>1</td>\n",
       "    </tr>\n",
       "    <tr>\n",
       "      <th>3</th>\n",
       "      <td>31</td>\n",
       "      <td>59</td>\n",
       "      <td>2</td>\n",
       "      <td>1</td>\n",
       "    </tr>\n",
       "    <tr>\n",
       "      <th>4</th>\n",
       "      <td>31</td>\n",
       "      <td>65</td>\n",
       "      <td>4</td>\n",
       "      <td>1</td>\n",
       "    </tr>\n",
       "  </tbody>\n",
       "</table>\n",
       "</div>"
      ],
      "text/plain": [
       "   Patient_Age  Operation_Year  Num_of_Positive_Axillary  Survival_Status\n",
       "0           30              64                         1                1\n",
       "1           30              62                         3                1\n",
       "2           30              65                         0                1\n",
       "3           31              59                         2                1\n",
       "4           31              65                         4                1"
      ]
     },
     "execution_count": 63,
     "metadata": {},
     "output_type": "execute_result"
    }
   ],
   "source": [
    "ds_path='/Users/karimafifi/Desktop/haberman.csv'\n",
    "df=pd.read_csv(ds_path, header = None, names=['Patient_Age', 'Operation_Year', 'Num_of_Positive_Axillary', 'Survival_Status'])\n",
    "df.head()"
   ]
  },
  {
   "cell_type": "code",
   "execution_count": 64,
   "metadata": {},
   "outputs": [
    {
     "data": {
      "text/plain": [
       "(306, 4)"
      ]
     },
     "execution_count": 64,
     "metadata": {},
     "output_type": "execute_result"
    }
   ],
   "source": [
    "df.shape"
   ]
  },
  {
   "cell_type": "code",
   "execution_count": 65,
   "metadata": {},
   "outputs": [
    {
     "data": {
      "text/plain": [
       "False"
      ]
     },
     "execution_count": 65,
     "metadata": {},
     "output_type": "execute_result"
    }
   ],
   "source": [
    "df.isnull().values.any()"
   ]
  },
  {
   "cell_type": "code",
   "execution_count": 66,
   "metadata": {},
   "outputs": [
    {
     "data": {
      "text/html": [
       "<div>\n",
       "<style scoped>\n",
       "    .dataframe tbody tr th:only-of-type {\n",
       "        vertical-align: middle;\n",
       "    }\n",
       "\n",
       "    .dataframe tbody tr th {\n",
       "        vertical-align: top;\n",
       "    }\n",
       "\n",
       "    .dataframe thead th {\n",
       "        text-align: right;\n",
       "    }\n",
       "</style>\n",
       "<table border=\"1\" class=\"dataframe\">\n",
       "  <thead>\n",
       "    <tr style=\"text-align: right;\">\n",
       "      <th></th>\n",
       "      <th>Patient_Age</th>\n",
       "      <th>Operation_Year</th>\n",
       "      <th>Num_of_Positive_Axillary</th>\n",
       "      <th>Survival_Status</th>\n",
       "    </tr>\n",
       "  </thead>\n",
       "  <tbody>\n",
       "    <tr>\n",
       "      <th>count</th>\n",
       "      <td>306.000000</td>\n",
       "      <td>306.000000</td>\n",
       "      <td>306.000000</td>\n",
       "      <td>306.000000</td>\n",
       "    </tr>\n",
       "    <tr>\n",
       "      <th>mean</th>\n",
       "      <td>52.457516</td>\n",
       "      <td>62.852941</td>\n",
       "      <td>4.026144</td>\n",
       "      <td>1.264706</td>\n",
       "    </tr>\n",
       "    <tr>\n",
       "      <th>std</th>\n",
       "      <td>10.803452</td>\n",
       "      <td>3.249405</td>\n",
       "      <td>7.189654</td>\n",
       "      <td>0.441899</td>\n",
       "    </tr>\n",
       "    <tr>\n",
       "      <th>min</th>\n",
       "      <td>30.000000</td>\n",
       "      <td>58.000000</td>\n",
       "      <td>0.000000</td>\n",
       "      <td>1.000000</td>\n",
       "    </tr>\n",
       "    <tr>\n",
       "      <th>25%</th>\n",
       "      <td>44.000000</td>\n",
       "      <td>60.000000</td>\n",
       "      <td>0.000000</td>\n",
       "      <td>1.000000</td>\n",
       "    </tr>\n",
       "    <tr>\n",
       "      <th>50%</th>\n",
       "      <td>52.000000</td>\n",
       "      <td>63.000000</td>\n",
       "      <td>1.000000</td>\n",
       "      <td>1.000000</td>\n",
       "    </tr>\n",
       "    <tr>\n",
       "      <th>75%</th>\n",
       "      <td>60.750000</td>\n",
       "      <td>65.750000</td>\n",
       "      <td>4.000000</td>\n",
       "      <td>2.000000</td>\n",
       "    </tr>\n",
       "    <tr>\n",
       "      <th>max</th>\n",
       "      <td>83.000000</td>\n",
       "      <td>69.000000</td>\n",
       "      <td>52.000000</td>\n",
       "      <td>2.000000</td>\n",
       "    </tr>\n",
       "  </tbody>\n",
       "</table>\n",
       "</div>"
      ],
      "text/plain": [
       "       Patient_Age  Operation_Year  Num_of_Positive_Axillary  Survival_Status\n",
       "count   306.000000      306.000000                306.000000       306.000000\n",
       "mean     52.457516       62.852941                  4.026144         1.264706\n",
       "std      10.803452        3.249405                  7.189654         0.441899\n",
       "min      30.000000       58.000000                  0.000000         1.000000\n",
       "25%      44.000000       60.000000                  0.000000         1.000000\n",
       "50%      52.000000       63.000000                  1.000000         1.000000\n",
       "75%      60.750000       65.750000                  4.000000         2.000000\n",
       "max      83.000000       69.000000                 52.000000         2.000000"
      ]
     },
     "execution_count": 66,
     "metadata": {},
     "output_type": "execute_result"
    }
   ],
   "source": [
    "df.describe()"
   ]
  },
  {
   "cell_type": "code",
   "execution_count": 67,
   "metadata": {},
   "outputs": [
    {
     "data": {
      "text/plain": [
       "1    225\n",
       "2     81\n",
       "Name: Survival_Status, dtype: int64"
      ]
     },
     "execution_count": 67,
     "metadata": {},
     "output_type": "execute_result"
    }
   ],
   "source": [
    "df['Survival_Status'].value_counts()"
   ]
  },
  {
   "cell_type": "code",
   "execution_count": 68,
   "metadata": {},
   "outputs": [],
   "source": [
    "df['Survival_Status'] = df['Survival_Status'].map(lambda x: '1' if (x == 1) else '0')"
   ]
  },
  {
   "cell_type": "code",
   "execution_count": 69,
   "metadata": {},
   "outputs": [
    {
     "data": {
      "text/plain": [
       "Patient_Age                  int64\n",
       "Operation_Year               int64\n",
       "Num_of_Positive_Axillary     int64\n",
       "Survival_Status             object\n",
       "dtype: object"
      ]
     },
     "execution_count": 69,
     "metadata": {},
     "output_type": "execute_result"
    }
   ],
   "source": [
    "df.dtypes"
   ]
  },
  {
   "attachments": {},
   "cell_type": "markdown",
   "metadata": {},
   "source": [
    "<h3>Research Question 1</h3><br>\n",
    "Are patients with younger age at time of operation more likely to survive?<br>\n",
    "<b>H<sub>0</sub></b>: There is no relationship between the age of the patient at the time of operation and the survival status. u<sub>1</sub> - u<sub>2</sub> = 0<br>\n",
    "<b>H<sub>a</sub></b>: Patients with younger age at the time of operation are more likely to survive. u<sub>1</sub> - u<sub>2</sub> < 0<br>"
   ]
  },
  {
   "cell_type": "markdown",
   "metadata": {},
   "source": [
    "We need to perform two samples t-test in order to determine if the difference between the two sample means is statistically significant or not. Our samples are independent so a two samples independent t-test would be appropriate. Lets first check if the conditions for applying the statistical test are present."
   ]
  },
  {
   "cell_type": "code",
   "execution_count": 72,
   "metadata": {},
   "outputs": [
    {
     "name": "stderr",
     "output_type": "stream",
     "text": [
      "/anaconda3/lib/python3.6/site-packages/matplotlib/axes/_axes.py:6462: UserWarning: The 'normed' kwarg is deprecated, and has been replaced by the 'density' kwarg.\n",
      "  warnings.warn(\"The 'normed' kwarg is deprecated, and has been \"\n",
      "/anaconda3/lib/python3.6/site-packages/matplotlib/axes/_axes.py:6462: UserWarning: The 'normed' kwarg is deprecated, and has been replaced by the 'density' kwarg.\n",
      "  warnings.warn(\"The 'normed' kwarg is deprecated, and has been \"\n"
     ]
    },
    {
     "data": {
      "text/plain": [
       "<matplotlib.axes._subplots.AxesSubplot at 0x1a1b5a97f0>"
      ]
     },
     "execution_count": 72,
     "metadata": {},
     "output_type": "execute_result"
    },
    {
     "data": {
      "image/png": "[encoded data removed]",
      "text/plain": [
       "<Figure size 1008x432 with 2 Axes>"
      ]
     },
     "metadata": {},
     "output_type": "display_data"
    }
   ],
   "source": [
    "fig, [ax1, ax2] = plt.subplots(nrows=1, ncols=2, figsize = (14, 6))\n",
    "\n",
    "ax1.set(title = 'Distribution of the age of patients who survived')\n",
    "sns.distplot(df['Patient_Age'][df['Survival_Status']=='1'], ax=ax1)\n",
    "\n",
    "ax2.set(title = 'Distribution of the age of patients who did not survive')\n",
    "sns.distplot(df['Patient_Age'][df['Survival_Status']=='0'], ax=ax2)\n"
   ]
  },
  {
   "cell_type": "code",
   "execution_count": 73,
   "metadata": {},
   "outputs": [
    {
     "data": {
      "text/plain": [
       "[Text(0.5,1,'Patient Age by Survival Status')]"
      ]
     },
     "execution_count": 73,
     "metadata": {},
     "output_type": "execute_result"
    },
    {
     "data": {
      "image/png": "[encoded data removed]",
      "text/plain": [
       "<Figure size 432x288 with 1 Axes>"
      ]
     },
     "metadata": {},
     "output_type": "display_data"
    }
   ],
   "source": [
    "ax=sns.boxplot(x = df['Survival_Status'], y = df['Patient_Age'])\n",
    "ax.set(title = 'Patient Age by Survival Status')"
   ]
  },
  {
   "cell_type": "code",
   "execution_count": 77,
   "metadata": {},
   "outputs": [
    {
     "name": "stdout",
     "output_type": "stream",
     "text": [
      "The mean age of patients who survived: 52.01777777777778\n",
      "The mean age of patients who did not survive: 53.67901234567901\n"
     ]
    }
   ],
   "source": [
    "print('The mean age of patients who survived: {}'.format(df['Patient_Age'][df['Survival_Status']=='1'].mean()))\n",
    "print('The mean age of patients who did not survive: {}'.format(df['Patient_Age'][df['Survival_Status']=='0'].mean()))"
   ]
  },
  {
   "cell_type": "markdown",
   "metadata": {},
   "source": [
    "The two samples do not violate any normality assumptions, they are approximately normal with no extreme skewness or outliers. We are going to also assume that the two samples are random. Also, the two samples have larger than 30 number of observations. The mean age of patients who survived is slightly smaller than those who did not."
   ]
  },
  {
   "cell_type": "markdown",
   "metadata": {},
   "source": [
    "Lets now check if this is due to real difference between the two means or due to sampling variability. We are going to use 5% as our significance level."
   ]
  },
  {
   "cell_type": "code",
   "execution_count": 93,
   "metadata": {},
   "outputs": [
    {
     "data": {
      "text/plain": [
       "[['', 'Test Statistic', 'p-value'],\n",
       " ['Sample Data', -1.1874990487687174, 0.11797892563414822]]"
      ]
     },
     "execution_count": 93,
     "metadata": {},
     "output_type": "execute_result"
    }
   ],
   "source": [
    "import scipy as sp\n",
    "\n",
    "twosample_results = sp.stats.ttest_ind(df['Patient_Age'][df['Survival_Status']=='1'], df['Patient_Age'][df['Survival_Status']=='0'])\n",
    "\n",
    "matrix_twosample = [\n",
    "    ['', 'Test Statistic', 'p-value'],\n",
    "    ['Sample Data', twosample_results[0], twosample_results[1]/2]\n",
    "]\n",
    "\n",
    "matrix_twosample"
   ]
  },
  {
   "cell_type": "markdown",
   "metadata": {},
   "source": [
    "With a 5% level of significance and a p-value of 0.11798 and a t-statistic that is not extreme, we do not have enough statistical evidence to reject the null hypothesis."
   ]
  },
  {
   "cell_type": "markdown",
   "metadata": {},
   "source": [
    "<h3>Research Question 2</h3><br>\n",
    "Are patients with lower number of positive axillary nodes detected before operation more likely to survive?<br>\n",
    "<b>H<sub>0</sub></b>: There is no relationship between the number of positive axillary nodes detected and survival status. u<sub>1</sub> - u<sub>2</sub> = 0<br>\n",
    "\n",
    "<b>H<sub>a</sub></b>: Patients with lower number of positive axillary nodes detected before operation more likely to survive. u<sub>1</sub> - u<sub>2</sub> < 0<br>"
   ]
  },
  {
   "cell_type": "markdown",
   "metadata": {},
   "source": [
    "We need to perform two samples t-test in order to determine if the difference between the two sample means is statistically significant or not. Our samples are independent so a two samples independent t-test would be appropriate. Lets first check if the conditions for applying the statistical test are present."
   ]
  },
  {
   "cell_type": "code",
   "execution_count": 94,
   "metadata": {},
   "outputs": [
    {
     "name": "stderr",
     "output_type": "stream",
     "text": [
      "/anaconda3/lib/python3.6/site-packages/matplotlib/axes/_axes.py:6462: UserWarning: The 'normed' kwarg is deprecated, and has been replaced by the 'density' kwarg.\n",
      "  warnings.warn(\"The 'normed' kwarg is deprecated, and has been \"\n",
      "/anaconda3/lib/python3.6/site-packages/matplotlib/axes/_axes.py:6462: UserWarning: The 'normed' kwarg is deprecated, and has been replaced by the 'density' kwarg.\n",
      "  warnings.warn(\"The 'normed' kwarg is deprecated, and has been \"\n"
     ]
    },
    {
     "data": {
      "text/plain": [
       "<matplotlib.axes._subplots.AxesSubplot at 0x10c87c0b8>"
      ]
     },
     "execution_count": 94,
     "metadata": {},
     "output_type": "execute_result"
    },
    {
     "data": {
      "image/png": "[encoded data removed]",
      "text/plain": [
       "<Figure size 1008x432 with 2 Axes>"
      ]
     },
     "metadata": {},
     "output_type": "display_data"
    }
   ],
   "source": [
    "fig, [ax1, ax2] = plt.subplots(nrows=1, ncols=2, figsize = (14, 6))\n",
    "\n",
    "ax1.set(title = 'Distribution of the number of positive axillary nodes detected for patients who survived')\n",
    "sns.distplot(df['Num_of_Positive_Axillary'][df['Survival_Status']=='1'], ax=ax1)\n",
    "\n",
    "ax2.set(title = 'Distribution of the number of positive axillary nodes detected for patients who did not survive')\n",
    "sns.distplot(df['Num_of_Positive_Axillary'][df['Survival_Status']=='0'], ax=ax2)"
   ]
  },
  {
   "cell_type": "code",
   "execution_count": 95,
   "metadata": {},
   "outputs": [
    {
     "data": {
      "text/plain": [
       "[Text(0.5,1,'Num of positive axillary detected by Survival Status')]"
      ]
     },
     "execution_count": 95,
     "metadata": {},
     "output_type": "execute_result"
    },
    {
     "data": {
      "image/png": "[encoded data removed]",
      "text/plain": [
       "<Figure size 432x288 with 1 Axes>"
      ]
     },
     "metadata": {},
     "output_type": "display_data"
    }
   ],
   "source": [
    "ax=sns.boxplot(x = df['Survival_Status'], y = df['Num_of_Positive_Axillary'])\n",
    "ax.set(title = 'Num of positive axillary detected by Survival Status')"
   ]
  },
  {
   "cell_type": "markdown",
   "metadata": {},
   "source": [
    "Even though our samples are not normal with much skewness and outliers, we are going to proceed with our statistical test since our sample is > 30"
   ]
  },
  {
   "cell_type": "code",
   "execution_count": 98,
   "metadata": {},
   "outputs": [
    {
     "name": "stdout",
     "output_type": "stream",
     "text": [
      "The mean number of positive axillary nodes of patients who survived: 2.7911111111111113\n",
      "The mean number of positive axillary nodes of patients who did not survive: 7.45679012345679\n"
     ]
    }
   ],
   "source": [
    "print('The mean number of positive axillary nodes of patients who survived: {}'.format(df['Num_of_Positive_Axillary'][df['Survival_Status']=='1'].mean()))\n",
    "print('The mean number of positive axillary nodes of patients who did not survive: {}'.format(df['Num_of_Positive_Axillary'][df['Survival_Status']=='0'].mean()))\n"
   ]
  },
  {
   "cell_type": "markdown",
   "metadata": {},
   "source": [
    "The mean number of positive axillary nodes of patients who survived is smaller than those who did not."
   ]
  },
  {
   "cell_type": "markdown",
   "metadata": {},
   "source": [
    "Lets now check if this is due to real difference between the two means or due to sampling variability. We are going to use 5% as our significance level."
   ]
  },
  {
   "cell_type": "code",
   "execution_count": 99,
   "metadata": {},
   "outputs": [
    {
     "data": {
      "text/plain": [
       "[['', 'Test Statistic', 'p-value'],\n",
       " ['Sample Data', -5.219167426001108, 1.667692558330104e-07]]"
      ]
     },
     "execution_count": 99,
     "metadata": {},
     "output_type": "execute_result"
    }
   ],
   "source": [
    "twosample_results = sp.stats.ttest_ind(df['Num_of_Positive_Axillary'][df['Survival_Status']=='1'], df['Num_of_Positive_Axillary'][df['Survival_Status']=='0'])\n",
    "\n",
    "matrix_twosample = [\n",
    "    ['', 'Test Statistic', 'p-value'],\n",
    "    ['Sample Data', twosample_results[0], twosample_results[1]/2]\n",
    "]\n",
    "\n",
    "matrix_twosample"
   ]
  },
  {
   "cell_type": "markdown",
   "metadata": {},
   "source": [
    "With an extreme t-statistic value and very small p-value, we can safely reject the null hypothesis and conclude that indeed, patients with lower number of positive axillary nodes detected before operation are more likely to survive."
   ]
  },
  {
   "cell_type": "markdown",
   "metadata": {},
   "source": [
    "<h3>Research Question 3</h3><br>\n",
    "Is there a relationship between the age of patient at time of operation and the number of positive axillary nodes detected?<br>\n",
    "<b>H<sub>0</sub></b>: There is no relationship between the age of patient at time of operation and the number of positive axillary nodes detected. r = 0<br>\n",
    "\n",
    "<b>H<sub>a</sub></b>: There is a relationship between the age of patient at time of operation and the number of positive axillary nodes detected. r &ne; 0<br>"
   ]
  },
  {
   "cell_type": "code",
   "execution_count": 100,
   "metadata": {},
   "outputs": [
    {
     "data": {
      "text/plain": [
       "<matplotlib.axes._subplots.AxesSubplot at 0x1a1bb1df60>"
      ]
     },
     "execution_count": 100,
     "metadata": {},
     "output_type": "execute_result"
    },
    {
     "data": {
      "image/png": "[encoded data removed]",
      "text/plain": [
       "<Figure size 432x288 with 1 Axes>"
      ]
     },
     "metadata": {},
     "output_type": "display_data"
    }
   ],
   "source": [
    "sns.regplot(df['Patient_Age'], df['Num_of_Positive_Axillary'])"
   ]
  },
  {
   "cell_type": "code",
   "execution_count": 101,
   "metadata": {},
   "outputs": [
    {
     "data": {
      "text/plain": [
       "(-0.06317610238980065, 0.270588471285462)"
      ]
     },
     "execution_count": 101,
     "metadata": {},
     "output_type": "execute_result"
    }
   ],
   "source": [
    "sp.stats.pearsonr(df['Patient_Age'], df['Num_of_Positive_Axillary'])"
   ]
  },
  {
   "cell_type": "markdown",
   "metadata": {},
   "source": [
    "As we can see from the above results, the negative linear correlation between the two variables is pretty weak and the p-value is also higher than 5% significance level so we fail to reject the null hypothesis."
   ]
  }
 ],
 "metadata": {
  "kernelspec": {
   "display_name": "Python 3",
   "language": "python",
   "name": "python3"
  },
  "language_info": {
   "codemirror_mode": {
    "name": "ipython",
    "version": 3
   },
   "file_extension": ".py",
   "mimetype": "text/x-python",
   "name": "python",
   "nbconvert_exporter": "python",
   "pygments_lexer": "ipython3",
   "version": "3.6.5"
  }
 },
 "nbformat": 4,
 "nbformat_minor": 2
}
